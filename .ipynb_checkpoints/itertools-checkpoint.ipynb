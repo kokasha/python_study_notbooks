{
 "cells": [
  {
   "cell_type": "code",
   "execution_count": 4,
   "metadata": {},
   "outputs": [],
   "source": [
    "# Resources\n",
    "# https://pybit.es/itertools-examples.html\n",
    "# https://pymotw.com/2/itertools/"
   ]
  },
  {
   "cell_type": "code",
   "execution_count": 5,
   "metadata": {},
   "outputs": [],
   "source": [
    "import itertools"
   ]
  },
  {
   "cell_type": "code",
   "execution_count": 14,
   "metadata": {},
   "outputs": [],
   "source": [
    "# Create Card Game Deck\n",
    "ranks = [ str(i) for i in range(1,11)] + list('JQKA')\n",
    "suits = 'S D C H'.split()\n",
    "cards = [ '{}/{}'.format(*card) for card in itertools.product(ranks,suits)]"
   ]
  },
  {
   "cell_type": "code",
   "execution_count": 33,
   "metadata": {},
   "outputs": [
    {
     "name": "stdout",
     "output_type": "stream",
     "text": [
      "Please wait... -\n"
     ]
    }
   ],
   "source": [
    "import itertools\n",
    "import sys\n",
    "import time\n",
    "\n",
    "def spinner(seconds):\n",
    "    \"\"\"Show an animated spinner while we sleep.\"\"\"\n",
    "    symbols = itertools.cycle('-\\|/')\n",
    "    tend = time.time() + seconds\n",
    "    while time.time() < tend:\n",
    "        # '\\r' is carriage return: return cursor to the start of the line.\n",
    "        sys.stdout.write('\\rPlease wait... ' + next(symbols)) # no newline\n",
    "        sys.stdout.flush()\n",
    "        time.sleep(0.1)\n",
    "    print() # newline\n",
    "\n",
    "if __name__ == \"__main__\":\n",
    "    spinner(3)"
   ]
  },
  {
   "cell_type": "markdown",
   "metadata": {},
   "source": [
    "## Cycle"
   ]
  },
  {
   "cell_type": "code",
   "execution_count": 39,
   "metadata": {},
   "outputs": [
    {
     "name": "stdout",
     "output_type": "stream",
     "text": [
      "1\n",
      "1\n",
      "1\n",
      "1\n",
      "1\n",
      "1\n",
      "1\n",
      "1\n",
      "1\n",
      "1\n"
     ]
    }
   ],
   "source": [
    "def num_loop(loops):\n",
    "    numbs = ['1','2','3']\n",
    "    while loops > 10:\n",
    "        num_cycle = itertools.cycle(numbs)\n",
    "        print(next(num_cycle))\n",
    "        loops -=1\n",
    "num_loop(20)"
   ]
  },
  {
   "cell_type": "code",
   "execution_count": 40,
   "metadata": {},
   "outputs": [
    {
     "ename": "NameError",
     "evalue": "name 'count' is not defined",
     "output_type": "error",
     "traceback": [
      "\u001b[0;31m---------------------------------------------------------------------------\u001b[0m",
      "\u001b[0;31mNameError\u001b[0m                                 Traceback (most recent call last)",
      "\u001b[0;32m<ipython-input-40-455223e74664>\u001b[0m in \u001b[0;36m<module>\u001b[0;34m\u001b[0m\n\u001b[0;32m----> 1\u001b[0;31m \u001b[0mcount\u001b[0m\u001b[0;34m(\u001b[0m\u001b[0;34m)\u001b[0m\u001b[0;34m\u001b[0m\u001b[0m\n\u001b[0m",
      "\u001b[0;31mNameError\u001b[0m: name 'count' is not defined"
     ]
    }
   ],
   "source": [
    "count()"
   ]
  },
  {
   "cell_type": "code",
   "execution_count": null,
   "metadata": {},
   "outputs": [],
   "source": []
  }
 ],
 "metadata": {
  "kernelspec": {
   "display_name": "Python 3",
   "language": "python",
   "name": "python3"
  },
  "language_info": {
   "codemirror_mode": {
    "name": "ipython",
    "version": 3
   },
   "file_extension": ".py",
   "mimetype": "text/x-python",
   "name": "python",
   "nbconvert_exporter": "python",
   "pygments_lexer": "ipython3",
   "version": "3.6.5"
  }
 },
 "nbformat": 4,
 "nbformat_minor": 2
}
